{
 "cells": [
  {
   "cell_type": "code",
   "execution_count": null,
   "metadata": {},
   "outputs": [],
   "source": [
    "from pyspark.sql import SparkSession\n",
    "\n",
    "# Skapa en SparkSession\n",
    "spark = SparkSession.builder \\\n",
    "    .appName(\"Movie Ratings Analysis\") \\\n",
    "    .getOrCreate()\n",
    "\n",
    "# Läs in data från CSV-filer\n",
    "df_ratings = spark.read.csv(\"ratings.csv\", header=True, inferSchema=True)\n",
    "df_movies = spark.read.csv(\"movies.csv\", header=True, inferSchema=True)\n",
    "\n",
    "# Utför sammanslagning samt kolumner samt återställt indexet till 'movieId'\n",
    "merged_df = df_ratings.join(df_movies, on='movieId') \\\n",
    "    .select('movieId', 'title', 'genres', 'rating')\n",
    "\n",
    "# Visa schema för DataFrame\n",
    "merged_df.printSchema()\n",
    "\n",
    "# Visa de första raderna i DataFrame\n",
    "merged_df.show()\n",
    "\n",
    "# Stäng SparkSession\n",
    "spark.stop()"
   ]
  },
  {
   "cell_type": "code",
   "execution_count": null,
   "metadata": {},
   "outputs": [],
   "source": []
  }
 ],
 "metadata": {
  "language_info": {
   "name": "python"
  }
 },
 "nbformat": 4,
 "nbformat_minor": 2
}
