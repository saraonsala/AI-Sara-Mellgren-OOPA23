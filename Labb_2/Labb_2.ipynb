{
 "cells": [
  {
   "cell_type": "code",
   "execution_count": 4,
   "metadata": {},
   "outputs": [],
   "source": [
    "# a) Lägg till datasetet till .gitignore\n",
    "with open('.gitignore', 'a') as f:\n",
    "    f.write('\\n# Ignore Dogs vs Cats dataset\\n')\n",
    "    f.write('..\\data\\train\\n')"
   ]
  },
  {
   "cell_type": "code",
   "execution_count": 1,
   "metadata": {},
   "outputs": [
    {
     "data": {
      "text/plain": [
       "0"
      ]
     },
     "execution_count": 1,
     "metadata": {},
     "output_type": "execute_result"
    }
   ],
   "source": [
    "from pathlib import Path\n",
    "import matplotlib.pyplot as plt \n",
    "\n",
    "datapath = Path().absolute().parent / \"data\"\n",
    "images = [plt.imread(path) for path in datapath.glob(\"*.jpg\")]\n",
    "\n",
    "len(images)"
   ]
  },
  {
   "cell_type": "code",
   "execution_count": 3,
   "metadata": {},
   "outputs": [
    {
     "name": "stdout",
     "output_type": "stream",
     "text": [
      "Not enough images in the list.\n"
     ]
    }
   ],
   "source": [
    "if len(images) >= 2:\n",
    "    images[0].shape, images[1].shape\n",
    "else:\n",
    "    print(\"Not enough images in the list.\")\n"
   ]
  }
 ],
 "metadata": {
  "kernelspec": {
   "display_name": "VENV",
   "language": "python",
   "name": "python3"
  },
  "language_info": {
   "codemirror_mode": {
    "name": "ipython",
    "version": 3
   },
   "file_extension": ".py",
   "mimetype": "text/x-python",
   "name": "python",
   "nbconvert_exporter": "python",
   "pygments_lexer": "ipython3",
   "version": "3.11.9"
  }
 },
 "nbformat": 4,
 "nbformat_minor": 2
}
